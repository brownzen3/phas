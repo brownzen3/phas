{
 "cells": [
  {
   "cell_type": "markdown",
   "metadata": {},
   "source": [
    "# PHAS0007 Computing Unit 4: Linear regression task\n",
    "\n",
    "Authors: Ben Waugh, Louise Dash, Becky Chislett\n",
    "\n",
    "Last updated 2025-10-16"
   ]
  },
  {
   "cell_type": "markdown",
   "metadata": {},
   "source": [
    "### Background to the data\n",
    "\n",
    "The data you will fit comes from an experiment carried out by the PHAS0007 module leader, Dr Jasvir Bhamrah. She was testing Hooke's Law by measuring the length of a spring with different masses attached to it. Hooke's Law states that\n",
    "    \n",
    "$$F = k x$$\n",
    "    \n",
    "where $F$ is the tension in the spring, $x$ is the extension of the spring, and $k$ is the spring constant of the spring. Hence $k$ can be calculated from the gradient of a graph of extension vs the weight applied to the spring."
   ]
  },
  {
   "cell_type": "markdown",
   "metadata": {},
   "source": [
    "### Important note\n",
    "\n",
    "#### Citation\n",
    "    \n",
    "If you reuse code from another source, for example the course notes, your own submission from a previous session, or a post on stackoverflow, you **must** make sure you clearly state the original source in the comments, and summarise any changes that you have made. It is **not acceptable** to copy code from other sources without citation and attribution. This applies to both session tasks and formal assignments.\n",
    "\n",
    "#### Examples\n",
    "\n",
    "For example, in the task today you are asked to adapt code from your earlier work, so include a comment in your code such as:\n",
    "\n",
    "    # Plotting code adapted from my submission for PHAS0007 Unit 3\n",
    "\n",
    "If you use or adapt code from someone else it is of course also important to acknowledge this, e.g. with a comment like\n",
    "\n",
    "    # Script in this cell is from https://blog.nextgenetics.net/?e=102\n",
    "      \n",
    "You should **always** do this when reusing code from other sources: it is both academic good practice and useful to remind you where you found something."
   ]
  },
  {
   "cell_type": "markdown",
   "metadata": {},
   "source": [
    "### Instructions\n",
    "\n",
    "1. Create a new notebook.\n",
    "1. Write code (you can adapt it from your work in the previous unit) to read in and plot the data from the file `spring.csv`. Check the data file itself to find out the quantities in each column and their units. Make sure that the code reads the data file from the same directory that your notebook is in. Don't make any changes to the data file itself.\n",
    "1. Use the function `np.polyfit` to find the best-fit line to the data\n",
    "    1. first, without using the errors, i.e. an unweighted fit;\n",
    "    1. then using the errors, i.e. a weighted fit.\n",
    "1. You can refer to the notebooks provided, and adapt code from then if you wish.\n",
    "1. In each of the unweighted and weighted cases:-\n",
    "    1. Output, at full precision, your calculated values for the slope, the intercept, and their uncertainties, together with their units and an appropriate text string.\n",
    "    1. Plot the fitted straight line on the same plot as the data.\n",
    "    1. Use Python number formatting to output, at the appropriate precision for quoting your results, your calculated slope and intercept, and the uncertainty on each. You can do this either\n",
    "        - in your plot itself, using `plt.text()`; or\n",
    "        - in a `print()` output in the same code cell as your plot (this is a bit easier, if you are short of time).\n",
    "1. Comment in a text cell on the differences (if any) between the results of the weighted and unweighted fits.\n",
    "1. Use your results to calculate the spring contant $k$ of the spring used in the experiment, printing the result and its uncertainty to the appropriate precision.\n",
    "1. Ensure your notebook forms a self-contained scientific report, including a title, introduction, and conclusion, as well as any other text that is appropriate in the body of the document.\n",
    "\n",
    "### Reminders\n",
    "\n",
    "- Use text cells to explain what you're doing as you go along, including:\n",
    "  - a title and brief introduction;\n",
    "  - a brief conclusion.\n",
    "- Include comments in code cells where appropriate, including:\n",
    "  - any necessary explanation of the code;\n",
    "  - citation of any copied or adapted code.\n",
    "- Consider how best to present the graphs: the checklist in the notes for unit 3 may be useful."
   ]
  }
 ],
 "metadata": {
  "anaconda-cloud": {},
  "kernelspec": {
   "display_name": ".venv",
   "language": "python",
   "name": "python3"
  },
  "language_info": {
   "codemirror_mode": {
    "name": "ipython",
    "version": 3
   },
   "file_extension": ".py",
   "mimetype": "text/x-python",
   "name": "python",
   "nbconvert_exporter": "python",
   "pygments_lexer": "ipython3",
   "version": "3.11.4"
  },
  "toc": {
   "base_numbering": 1,
   "nav_menu": {},
   "number_sections": false,
   "sideBar": true,
   "skip_h1_title": true,
   "title_cell": "Table of Contents",
   "title_sidebar": "Contents",
   "toc_cell": false,
   "toc_position": {
    "height": "calc(100% - 180px)",
    "left": "10px",
    "top": "150px",
    "width": "294.4px"
   },
   "toc_section_display": true,
   "toc_window_display": true
  }
 },
 "nbformat": 4,
 "nbformat_minor": 4
}
