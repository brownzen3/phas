{
 "cells": [
  {
   "cell_type": "markdown",
   "metadata": {},
   "source": [
    "# PHAS0007 Computing Unit 4: Fitting a straight line to data\n",
    "\n",
    "Authors: Ben Waugh, Louise Dash, Becky Chislett\n",
    "\n",
    "Last updated 2025-10-17\n",
    "\n",
    "## Learning objectives\n",
    "\n",
    "By the end of this session, you should be able to:\n",
    "- use Python to fit a straight line to a set of data;\n",
    "- present data, calculations and discussion in a well formatted computational notebook.\n",
    "\n",
    "## Introduction\n",
    "\n",
    "In this unit we will fit a straight line to a set of data, as outlined in the Data Analysis and Statistics (DAS) lectures and booklet. In this week's assignment you will apply these techniques to some data from an experiment, and present your calculation and results, as well as the data itself, in a Jupyter notebook. You should refer to the materials from the DAS course for explanation of the theory of linear regression, and of how to choose the appropriate level of precision to use in quoting numerical results.\n",
    "\n",
    "Before we get to linear regresssion, though, we will show you how to format numbers when printing them in Python, so that you can control the precision and layout."
   ]
  },
  {
   "cell_type": "markdown",
   "metadata": {},
   "source": [
    "## Formatting numbers\n",
    "\n",
    "### Presenting numbers\n",
    "\n",
    "You may have noticed that when you print a value in Python, you often get a lot more decimal places than you really want or need. This can make the output hard to read, and it doesn't follow the rules you have learned in the DAS course for presenting data."
   ]
  },
  {
   "cell_type": "code",
   "execution_count": 29,
   "metadata": {},
   "outputs": [
    {
     "name": "stdout",
     "output_type": "stream",
     "text": [
      "x = 0.07692307692307693 +/- 0.0026923076923076926\n"
     ]
    }
   ],
   "source": [
    "# Value and error\n",
    "x  = 1/13\n",
    "dx = x*0.035\n",
    "\n",
    "# Print results\n",
    "print(f\"x = {x} +/- {dx}\")"
   ]
  },
  {
   "cell_type": "markdown",
   "metadata": {},
   "source": [
    "Due to the way the computer represents real numbers you have also seen that the result of a calculation is not always exactly what you might expect."
   ]
  },
  {
   "cell_type": "code",
   "execution_count": 30,
   "metadata": {},
   "outputs": [
    {
     "name": "stdout",
     "output_type": "stream",
     "text": [
      "result = 0.30000000000000004\n"
     ]
    }
   ],
   "source": [
    "# Simple arithmetic\n",
    "print(f\"result = {0.1*3}\")"
   ]
  },
  {
   "cell_type": "markdown",
   "metadata": {},
   "source": [
    "Remember, when dealing with data you should quote all uncertainties in your results to one significant figure (usually) or at most two (often appropriate if the first significant figure is 1, or if the uncertainty is an important part of the analysis), and then give your measured or calculated value to the same precision.\n",
    "\n",
    "However, if you want to do further calculations with your results, you should always use the numbers at their full calculated precision. Hence the best general rule is to **_quote_ your results to 1 or 2 significant figures in the uncertainty, but always _calculate_ with the full number** to minimize rounding errors. So we want to change the format used to print the number, but not round the value stored in the computer's memory.\n",
    "\n",
    "In any case, you will need to view your results to full precision at some point in order to determine how many significant figures are required. If, for example, you've calculated your least-squares fit line to have a slope of $3.1234567 \\pm 0.0043543$, you should quote the result as $3.123 \\pm 0.004$ (not forgetting appropriate units, of course!)\n",
    "\n",
    "Remember though, you can't use LaTeX-style formatting in a Python `print()` statement. If you are able to insert the `±` (plus-minus) symbol, then you can do so, but it is fine to use `+/-`, as well as `^` for superscripts and so on.\n",
    "\n",
    "### Format specifiers\n",
    "\n",
    "The way we determine the way a number is printed is to use a **format specifier**."
   ]
  },
  {
   "cell_type": "code",
   "execution_count": 22,
   "metadata": {},
   "outputs": [
    {
     "name": "stdout",
     "output_type": "stream",
     "text": [
      "x = 0.077 +/- 0.003\n"
     ]
    }
   ],
   "source": [
    "# Print results to appropriate precision\n",
    "print(f\"x = {x:.3f} +/- {dx:.3f}\")"
   ]
  },
  {
   "cell_type": "markdown",
   "metadata": {},
   "source": [
    "- The `f` before the string marks it as an **f-string** (technically a \"formatted string literal\", meaning it contains expressions in curly brackets `{}` that should be replaced when the code is run.\n",
    "- The variable names within the curly brackets are replaced by the values of the corresponding variables.\n",
    "- The colon `:` marks what follows as a **format specifier**, which tells Python how to present the corresponding value.\n",
    "- The format specifier (`0.3f` in this case) has four parts:-\n",
    "  - The first (`0`) is the (minimum) **field width**. Here we use 0 because we don't want any extra space. In fact we could simply omit the number in this case and write `{x:.3f}`.\n",
    "  - The second (`.`) is just a separator between the width and the next field.\n",
    "  - The third (`3`) is the **precision**, in this case the number of decimal places to print.\n",
    "  - The fourth (`f`) is the **type**: `f` means \"fixed point\", meaning we want a decimal number with a set number of digits following the decimal point.\n",
    "  \n",
    "We can use change the minimum field width to a non-zero number if we want to align numbers in a column by padding each value with extra space."
   ]
  },
  {
   "cell_type": "code",
   "execution_count": 33,
   "metadata": {},
   "outputs": [
    {
     "name": "stdout",
     "output_type": "stream",
     "text": [
      "Not lined up:\n",
      "  x   = 0.077\n",
      "  10x = 0.769\n",
      "Lined up:\n",
      "  x   =    0.077\n",
      "  10x =    0.769\n"
     ]
    }
   ],
   "source": [
    "print(\"Not lined up:\")\n",
    "print(f\"  x   = {x:.3f}\")    # width=0 so can be omitted\n",
    "print(f\"  10x = {10*x:.3f}\")\n",
    "\n",
    "print(\"Lined up:\")\n",
    "print(f\"  x   = {x:8.3f}\")\n",
    "print(f\"  10x = {10*x:8.3f}\")"
   ]
  },
  {
   "cell_type": "markdown",
   "metadata": {},
   "source": [
    "On other occasions we might want to use `e`, for exponential (scientific) format."
   ]
  },
  {
   "cell_type": "code",
   "execution_count": 24,
   "metadata": {},
   "outputs": [
    {
     "name": "stdout",
     "output_type": "stream",
     "text": [
      "x = 7.692308e-02\n",
      "x = 7.692e-02\n",
      "x =    7.692e-02\n"
     ]
    }
   ],
   "source": [
    "print(f\"x = {x:e}\")\n",
    "print(f\"x = {x:.3e}\")\n",
    "print(f\"x = {x:12.3e}\")"
   ]
  },
  {
   "cell_type": "markdown",
   "metadata": {},
   "source": [
    "For integers, we don't have the problem of large numbers of unwanted decimal places, so the default format is often what we want, and we can often leave out the format specifier."
   ]
  },
  {
   "cell_type": "code",
   "execution_count": 25,
   "metadata": {},
   "outputs": [
    {
     "name": "stdout",
     "output_type": "stream",
     "text": [
      "n = 23\n"
     ]
    }
   ],
   "source": [
    "n = 23\n",
    "print(f\"n = {n}\")"
   ]
  },
  {
   "cell_type": "markdown",
   "metadata": {},
   "source": [
    "If we want to pad the numbers with extra space to line them up, we can use the `d` (decimal) format and specify a minimum width."
   ]
  },
  {
   "cell_type": "code",
   "execution_count": 26,
   "metadata": {},
   "outputs": [
    {
     "name": "stdout",
     "output_type": "stream",
     "text": [
      "n    =   23\n",
      "10 n =  230\n"
     ]
    }
   ],
   "source": [
    "n = 23\n",
    "print(f\"n    = {n:4d}\")\n",
    "print(f\"10 n = {10*n:4d}\")"
   ]
  },
  {
   "cell_type": "markdown",
   "metadata": {},
   "source": [
    "Here are a few more examples to illustrate some of the options:-"
   ]
  },
  {
   "cell_type": "code",
   "execution_count": 27,
   "metadata": {},
   "outputs": [
    {
     "name": "stdout",
     "output_type": "stream",
     "text": [
      "num_3 to 4dp is 146.2300 (extra zeros added automatically).\n",
      "  or rounded to the nearest integer value (0dp) it is 146.\n",
      "num_4 really is an integer: 42.\n",
      "num_5 is best in exponential format: 3.658954e-08.\n",
      "  but we might want to limit the number of dp: 3.66e-08.\n",
      "We can put num_5 in f format 0.0000000366\n",
      "  but you need enough digits otherwise you just get 0.000000.\n"
     ]
    }
   ],
   "source": [
    "num_3 = 146.23\n",
    "num_4 = 42\n",
    "num_5 = 3.6589543805434e-8\n",
    "\n",
    "print(f\"num_3 to 4dp is {num_3:0.4f} (extra zeros added automatically).\")\n",
    "print(f\"  or rounded to the nearest integer value (0dp) it is {num_3:0.0f}.\")\n",
    "print(f\"num_4 really is an integer: {num_4:d}.\")\n",
    "print(f\"num_5 is best in exponential format: {num_5:e}.\")\n",
    "print(f\"  but we might want to limit the number of dp: {num_5:0.2e}.\")\n",
    "print(f\"We can put num_5 in f format {num_5:0.10f}\")\n",
    "print(f\"  but you need enough digits otherwise you just get {num_5:0.6f}.\")"
   ]
  },
  {
   "cell_type": "markdown",
   "metadata": {},
   "source": [
    "Many other options are described in the [Python string documentation](https://docs.python.org/3/library/string.html#formatstrings)."
   ]
  },
  {
   "cell_type": "markdown",
   "metadata": {},
   "source": [
    "## Linear regression using NumPy\n",
    "\n",
    "### Fitting a straight line using NumPy\n",
    "\n",
    "The notebook [PHAS0007-DAS Maths of linear regression](https://moodle.ucl.ac.uk/mod/resource/view.php?id=8156703) linked from the [Resources page of the DAS course](https://moodle.ucl.ac.uk/course/view.php?id=55114&section=3#tabs-tree-start) demonstrates how to carry out a straight-line fit by implementing the equations derived in the Data Analysis Booklet. In this unit we will instead use the NumPy library to perform these calculations. In these notes we will provide only a short overview of the procedure. The separate notebook [Fitting a Function to Data](https://moodle.ucl.ac.uk/mod/resource/view.php?id=8062161) goes into more detail, and goes beyond the content of this course, with worked examples to illustrate fitting a straight line and other functions to a set of data.\n",
    "\n",
    "As usual we start by importing the packages we will need:-"
   ]
  },
  {
   "cell_type": "code",
   "execution_count": 28,
   "metadata": {},
   "outputs": [
    {
     "ename": "ModuleNotFoundError",
     "evalue": "No module named 'numpy'",
     "output_type": "error",
     "traceback": [
      "\u001b[31m---------------------------------------------------------------------------\u001b[39m",
      "\u001b[31mModuleNotFoundError\u001b[39m                       Traceback (most recent call last)",
      "\u001b[36mCell\u001b[39m\u001b[36m \u001b[39m\u001b[32mIn[28]\u001b[39m\u001b[32m, line 1\u001b[39m\n\u001b[32m----> \u001b[39m\u001b[32m1\u001b[39m \u001b[38;5;28;01mimport\u001b[39;00m\u001b[38;5;250m \u001b[39m\u001b[34;01mnumpy\u001b[39;00m\u001b[38;5;250m \u001b[39m\u001b[38;5;28;01mas\u001b[39;00m\u001b[38;5;250m \u001b[39m\u001b[34;01mnp\u001b[39;00m\n\u001b[32m      2\u001b[39m \u001b[38;5;28;01mimport\u001b[39;00m\u001b[38;5;250m \u001b[39m\u001b[34;01mmatplotlib\u001b[39;00m\u001b[34;01m.\u001b[39;00m\u001b[34;01mpyplot\u001b[39;00m\u001b[38;5;250m \u001b[39m\u001b[38;5;28;01mas\u001b[39;00m\u001b[38;5;250m \u001b[39m\u001b[34;01mplt\u001b[39;00m\n",
      "\u001b[31mModuleNotFoundError\u001b[39m: No module named 'numpy'"
     ]
    }
   ],
   "source": [
    "import numpy as np\n",
    "import matplotlib.pyplot as plt"
   ]
  },
  {
   "cell_type": "markdown",
   "metadata": {},
   "source": [
    "Then we can read in the data, which in this case was generated using a simple artifical simulation."
   ]
  },
  {
   "cell_type": "code",
   "execution_count": null,
   "metadata": {},
   "outputs": [],
   "source": [
    "# Fields are x, y, (error on y). No physical meaning or units!\n",
    "x, y, dy = np.loadtxt('unit4data.csv',delimiter=',',unpack=True)"
   ]
  },
  {
   "cell_type": "markdown",
   "metadata": {},
   "source": [
    "### Weighted fit\n",
    "\n",
    "Let's start with a weighted fit, which takes the errors on the data into account, giving more importance to the points that are known to be more precise. We use the `polyfit` function as follows. Note that the parameters (`w` and `cov`) needed to take the errors into account correctly are not obvious, so study this code carefully! Normally we would not recommend using code comments to explain how a library function works, but in this case it is likely to be useful to the reader."
   ]
  },
  {
   "cell_type": "code",
   "execution_count": null,
   "metadata": {},
   "outputs": [
    {
     "name": "stdout",
     "output_type": "stream",
     "text": [
      "m = 2.2220734250223937 +- 0.17308834688749694\n",
      "c = 0.2496214096579723 +- 0.07904816326003994\n"
     ]
    }
   ],
   "source": [
    "# Fit straight line parameters and calculate errors\n",
    "degree = 1            # Straight line = polynomial of degree 1.\n",
    "#   Note: to correctly take errors into account,\n",
    "#     - set weights with w=1/error\n",
    "#     - use cov='unscaled'\n",
    "#   See https://numpy.org/doc/stable/reference/generated/numpy.polyfit.html\n",
    "coeffs, errors = np.polyfit(x,y,degree,w=1/dy,cov='unscaled')\n",
    "m, c = coeffs                     # unpack gradient and intercept from output\n",
    "dm, dc = np.sqrt(np.diag(errors)) # errors are sqrt of diagonal terms\n",
    "\n",
    "# Present results with errors\n",
    "print(f\"m = {m} +- {dm}\")\n",
    "print(f\"c = {c} +- {dc}\")"
   ]
  },
  {
   "cell_type": "markdown",
   "metadata": {},
   "source": [
    "Once we know how large the errors on each parameter is, we can choose an appropriate precision to present our results. In this case we the choice of one significant figure for the error on $c$ is fairly clear. For $m$ we could also choose one significant figure, but this would be a less good approximation of the actual error, so here we have chosen two. Note that we consider the precision of each parameter separately: the fact that we give both to two decimal places in this case is a coincidence."
   ]
  },
  {
   "cell_type": "code",
   "execution_count": null,
   "metadata": {},
   "outputs": [
    {
     "name": "stdout",
     "output_type": "stream",
     "text": [
      "m = 2.22 +- 0.17\n",
      "c = 0.25 +- 0.08\n"
     ]
    }
   ],
   "source": [
    "# Present results with errors\n",
    "print(f\"m = {m:.2f} +- {dm:.2f}\")\n",
    "print(f\"c = {c:.2f} +- {dc:.2f}\")"
   ]
  },
  {
   "cell_type": "markdown",
   "metadata": {},
   "source": [
    "Using these results, we can plot the data along with our line of best fit."
   ]
  },
  {
   "cell_type": "code",
   "execution_count": null,
   "metadata": {},
   "outputs": [
    {
     "data": {
      "image/png": "[encoded data removed]",
      "text/plain": [
       "<Figure size 640x480 with 1 Axes>"
      ]
     },
     "metadata": {},
     "output_type": "display_data"
    }
   ],
   "source": [
    "# Calculate coordinates to plot best fit line\n",
    "xline = np.array([0,1.5])\n",
    "yline_fit  = m * xline + c\n",
    "\n",
    "# Set up graph\n",
    "plt.figure()\n",
    "plt.title(\"Comparing true and best fit lines\")\n",
    "plt.xlabel(\"x\")\n",
    "plt.ylabel(\"y\")\n",
    "\n",
    "# Plot data and lines\n",
    "plt.errorbar(x,y,yerr=dy,fmt='.',label=\"data\")\n",
    "plt.plot(xline,yline_fit,'-',label='best fit line')\n",
    "plt.legend();"
   ]
  },
  {
   "cell_type": "markdown",
   "metadata": {},
   "source": [
    "Does this look like a good fit to the data?\n",
    "\n",
    "### An unweighted fit\n",
    "\n",
    "What happens if we don't use the errors, and carry out an unweighted fit?"
   ]
  },
  {
   "cell_type": "code",
   "execution_count": null,
   "metadata": {},
   "outputs": [
    {
     "name": "stdout",
     "output_type": "stream",
     "text": [
      "m =  2.74 +- 0.16\n",
      "c = -0.03 +- 0.15\n"
     ]
    }
   ],
   "source": [
    "# Fit straight line parameters and calculate errors (unweighted)\n",
    "coeffs_uw, errors_uw = np.polyfit(x,y,degree,cov=True) # NB use cov=True for unweighted fit\n",
    "m_uw, c_uw = coeffs_uw                     # unpack gradient and intercept from output\n",
    "dm_uw, dc_uw = np.sqrt(np.diag(errors_uw)) # errors are sqrt of diagonal terms\n",
    "\n",
    "# Present results with errors\n",
    "print(f\"m = {m_uw:5.2f} +- {dm_uw:4.2f}\")\n",
    "print(f\"c = {c_uw:5.2f} +- {dc_uw:4.2f}\")"
   ]
  },
  {
   "cell_type": "code",
   "execution_count": null,
   "metadata": {},
   "outputs": [
    {
     "data": {
      "image/png": "[encoded data removed]",
      "text/plain": [
       "<Figure size 640x480 with 1 Axes>"
      ]
     },
     "metadata": {},
     "output_type": "display_data"
    }
   ],
   "source": [
    "# Calculate coordinates to plot unweighted fit\n",
    "yline_uw  = m_uw * xline + c_uw\n",
    "\n",
    "# Set up graph\n",
    "plt.figure()\n",
    "plt.title(\"Comparing weighted and unweighted fits\")\n",
    "plt.xlabel(\"x\")\n",
    "plt.ylabel(\"y\")\n",
    "\n",
    "# Plot data and lines\n",
    "plt.errorbar(x,y,yerr=dy,fmt='.',label=\"data\")\n",
    "plt.plot(xline,yline_fit,'-',label='weighted fit')\n",
    "plt.plot(xline,yline_uw,'-',label='unweighted fit')\n",
    "plt.legend();"
   ]
  },
  {
   "cell_type": "markdown",
   "metadata": {},
   "source": [
    "You should give some thought to the question of why there is such a big difference, and whether it is better to rely on the results of the weighted or unweighted fit. You might want to refer to the data analysis booklet.\n",
    "\n",
    "In this artificial example we can tell you that the actual gradient and intercept used to generate the data were 2.1 and 0.3 respectively. How do these compare with the parameters and errors obtained from the two fits? With real data we do not have the true parameters to compare, so we cannot choose our approach based on which gets closer to the right answer. However, we can use examples like this to gain insight into how regression works, and what difference the errors on the data make to the results.\n",
    "\n",
    "### Goodness of fit\n",
    "\n",
    "To ascertain whether our data is actually well described by the straight line we have fitted to it, we can take various approaches, as described in more detail in the DAS booklet:\n",
    "\n",
    "- look at the graph with the line and the points with error bars;\n",
    "- plot the residuals (or normalised residuals);\n",
    "- calculate the $r^2$ statistic;\n",
    "- calculate the normalised $\\chi^2$ statistic.\n",
    "\n",
    "How well do you think the data above is described by a straight line?"
   ]
  },
  {
   "cell_type": "markdown",
   "metadata": {},
   "source": [
    "## Adding the parameters to your plot\n",
    "\n",
    "When you do your own least squares fit line, you're going to want to output the slope and intercept (together with their uncertainties) either as text output with a print statement, like above, or on the plot itself.\n",
    "\n",
    "To add text to your plot, you can use the function `plt.text`. You will need to work out roughly the x- and y- coordinates where you want the text to start. Then you may need to adjust them to get them exactly right, making sure the text isn't obscuring anything on the plot."
   ]
  },
  {
   "cell_type": "code",
   "execution_count": null,
   "metadata": {},
   "outputs": [
    {
     "ename": "NameError",
     "evalue": "name 'plt' is not defined",
     "output_type": "error",
     "traceback": [
      "\u001b[31m---------------------------------------------------------------------------\u001b[39m",
      "\u001b[31mNameError\u001b[39m                                 Traceback (most recent call last)",
      "\u001b[36mCell\u001b[39m\u001b[36m \u001b[39m\u001b[32mIn[19]\u001b[39m\u001b[32m, line 2\u001b[39m\n\u001b[32m      1\u001b[39m \u001b[38;5;66;03m# Set up graph\u001b[39;00m\n\u001b[32m----> \u001b[39m\u001b[32m2\u001b[39m \u001b[43mplt\u001b[49m.figure()\n\u001b[32m      3\u001b[39m plt.title(\u001b[33m\"\u001b[39m\u001b[33mResults of simulated experiment\u001b[39m\u001b[33m\"\u001b[39m)\n\u001b[32m      4\u001b[39m plt.xlabel(\u001b[33m\"\u001b[39m\u001b[33mx\u001b[39m\u001b[33m\"\u001b[39m)\n",
      "\u001b[31mNameError\u001b[39m: name 'plt' is not defined"
     ]
    }
   ],
   "source": [
    "# Set up graph\n",
    "plt.figure()\n",
    "plt.title(\"Results of simulated experiment\")\n",
    "plt.xlabel(\"x\")\n",
    "plt.ylabel(\"y\")\n",
    "\n",
    "# Plot data and lines\n",
    "plt.errorbar(x,y,yerr=dy,fmt='.',label=\"data\")\n",
    "plt.plot(xline,yline_fit,'-',label='best fit line: $y=mx+c$')\n",
    "plt.legend(loc=\"upper left\")\n",
    "\n",
    "# Add parameters to plot\n",
    "plt.text(0.8, 4.8,f\"m = {m:.2f} +- {dm:.2f}\")\n",
    "plt.text(0.8, 4.55,f\"c = {c:.2f} +- {dc:.2f}\")"
   ]
  }
 ],
 "metadata": {
  "anaconda-cloud": {},
  "kernelspec": {
   "display_name": "Python 3",
   "language": "python",
   "name": "python3"
  },
  "language_info": {
   "codemirror_mode": {
    "name": "ipython",
    "version": 3
   },
   "file_extension": ".py",
   "mimetype": "text/x-python",
   "name": "python",
   "nbconvert_exporter": "python",
   "pygments_lexer": "ipython3",
   "version": "3.13.9"
  },
  "toc": {
   "base_numbering": 1,
   "nav_menu": {},
   "number_sections": false,
   "sideBar": true,
   "skip_h1_title": true,
   "title_cell": "Table of Contents",
   "title_sidebar": "Contents",
   "toc_cell": false,
   "toc_position": {
    "height": "calc(100% - 180px)",
    "left": "10px",
    "top": "150px",
    "width": "294.083px"
   },
   "toc_section_display": true,
   "toc_window_display": true
  }
 },
 "nbformat": 4,
 "nbformat_minor": 4
}
