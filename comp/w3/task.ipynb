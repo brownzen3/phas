{
 "cells": [
  {
   "cell_type": "markdown",
   "metadata": {},
   "source": [
    "# PHAS0007 Computing Unit 3 Assignment\n",
    "\n",
    "Last updated: 2025-10-10\n",
    "\n",
    "In this unit you will need to create and upload two Jupyter notebooks, one for each part of the assignment. In each case you should:\n",
    "- choose a suitable filename;\n",
    "- include appropriately formatted text cells as well as code cells;\n",
    "- include informative, concise comments in the code cells."
   ]
  },
  {
   "cell_type": "markdown",
   "metadata": {},
   "source": [
    "## Part 1\n",
    "\n",
    "In unit 2 you were asked to define a Python function to calculate the value of the fourth-order Legendre polynomial $P_4(x)$ for a given value (or array of values) of x. Now you will plot a graph of this function.\n",
    "\n",
    "$$\n",
    "P_4(x) = \\frac{1}{8} \\left( 35 x^4 - 30 x^2 + 3 \\right)\n",
    "$$\n",
    "\n",
    "You will need to\n",
    "\n",
    "- create a new Jupyter notebook, with a suitable filename;\n",
    "- include a title, and an introductory text cell including the above equation (which you can copy and paste from this notebook);\n",
    "- copy the Python function from your earlier work, incorporating any appropriate improvements;\n",
    "- use this function plot $P_4(x)$ over the range $-1<x<1$;\n",
    "- format and label the plot appropriately."
   ]
  },
  {
   "cell_type": "markdown",
   "metadata": {},
   "source": [
    "## Part 2\n",
    "\n",
    "This is an exercise in plotting data from a laboratory experiment. The data is from an X-ray diffraction experiment similar to one that some of you may do next year in PHAS0028 (Experiment A10). A beam of X-rays is scattered from a crystal sample and the intensity of the scattered X-rays is measured at various angles. You do not need to know anything about X-ray diffraction to plot this data, but if you are interested you can find more information online:\n",
    "\n",
    "- a quick summary of the theory: http://hyperphysics.phy-astr.gsu.edu/hbase/quantum/bragg.html\n",
    "- experimental setup: http://hyperphysics.phy-astr.gsu.edu/hbase/quantum/bragg.html#c2\n",
    "- more detail: http://en.wikipedia.org/wiki/Bragg%27s_law .\n",
    "\n",
    "### Instructions\n",
    "\n",
    "- Download the two data files from the \"Data\" folder in Moodle: \n",
    "  - LiF-30kV.csv\n",
    "  - NaCl-30kV.csv \n",
    "- These were generated in Microsoft Excel and saved in CSV (comma separated values) format. In both files, the first column (x-data) is twice the diffraction angle ($2 \\theta$, in degrees) and the second column (y-data) is the number of counts recorded per second.\n",
    "- Create a new Jupyter notebook. Remember to:\n",
    "  - choose a suitable filename;\n",
    "  - start with a suitable title and an introductory paragraph; \n",
    "  - use text cells to explain what you're doing as you go along;\n",
    "  - include informative, concise comments in the code cells.\n",
    "- Import the data into your notebook as we did in the examples in the notes.\n",
    "- Plot the two sets of data on a single plot. The styles etc are up to you: experiment as much as you like, but choose something appropriate for the final version.\n",
    "* You'll need to consider whether or not to use a continuous line, data points (and if so which style/size), or both. Which is most appropriate here, and why? **Explain your choice in a text cell.**\n",
    "* Include axis labels, a legend, and a title. \n",
    "* Your notebook should also include  a line that uses the `savefig` function to save the plot in a suitable form for printing out and sticking into a lab book. \n",
    "\n",
    "### Hints\n",
    "\n",
    "* **DO NOT EDIT THE DATA FILES, CHANGE THEM IN ANY WAY, OR RENAME THE FILES.**\n",
    "* Look at the data files in the Jupyter text file viewer (or an application like Notepad if you prefer) to see what format they are in before trying to import them. If you open them in Excel, they just look like spreadsheets, which doesn't really help you decipher the format.\n",
    "* Read the `loadtxt` help at http://docs.scipy.org/doc/numpy/reference/generated/numpy.loadtxt.html carefully, in particular how to set the delimiter.\n",
    "* You can find information on typesetting maths and Greek letters in Matplotlib here: https://matplotlib.org/stable/tutorials/text/mathtext.html. In general, this works using the same LaTeX commands and abbreviations as when you are entering maths or Greek letters in text cells.\n",
    "* Having problems with typesetting a lower case theta? Have a look at this: https://stackoverflow.com/questions/10370760/matplotlib-axis-label-theta-does-not-work-theta-does\n",
    "* **Don't** use Greek letters or other Unicode characters in variable names. It usually works, but it may be harder to edit your code on another system, or may be displayed incorrectly or even fail to work at all."
   ]
  }
 ],
 "metadata": {
  "anaconda-cloud": {},
  "kernelspec": {
   "display_name": "Python 3 (ipykernel)",
   "language": "python",
   "name": "python3"
  },
  "language_info": {
   "codemirror_mode": {
    "name": "ipython",
    "version": 3
   },
   "file_extension": ".py",
   "mimetype": "text/x-python",
   "name": "python",
   "nbconvert_exporter": "python",
   "pygments_lexer": "ipython3",
   "version": "3.11.13"
  },
  "toc": {
   "base_numbering": 1,
   "nav_menu": {},
   "number_sections": false,
   "sideBar": true,
   "skip_h1_title": true,
   "title_cell": "Table of Contents",
   "title_sidebar": "Contents",
   "toc_cell": false,
   "toc_position": {
    "height": "calc(100% - 180px)",
    "left": "10px",
    "top": "150px",
    "width": "275.2px"
   },
   "toc_section_display": true,
   "toc_window_display": true
  }
 },
 "nbformat": 4,
 "nbformat_minor": 4
}
