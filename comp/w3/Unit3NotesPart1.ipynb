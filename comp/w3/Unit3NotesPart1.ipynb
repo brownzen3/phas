{
 "cells": [
  {
   "cell_type": "markdown",
   "metadata": {},
   "source": [
    "# PHAS0007 Computing Unit 3 Part 1: More about the Jupyter Notebook\n",
    "Authors: Dr Becky Chislett, Dr Louise Dash and Dr Ben Waugh\n",
    "\n",
    "Last updated 2024-10-14"
   ]
  },
  {
   "cell_type": "markdown",
   "metadata": {},
   "source": [
    "## The Jupyter Notebook interface\n",
    "\n",
    "### Overview\n",
    "\n",
    "We have talked a lot about using the Python programming language so far, but we haven't said much about the Jupyter Notebook application that we've been using for all our work.\n",
    "\n",
    "The Jupyter Notebook allows us to combine code with formatted text and graphics to create a document that not only describes our computational work, but lets a reader run and modify the code. In this notebook, we'll look at some of the features of this application and how we can format text and equations to turn our notebook into a readable scientific report.\n",
    "\n",
    "Jupyter notebooks get saved automatically every so often. To save them manually, click on the disk icon in the top left corner, or press CTRL-S. However, they don't always act exactly like other documents: in particular (and this can trip you up) there is only very limited \"undo\" (CTRL-Z) functionality. In general, CTRL-Z will work to undo what you have done in the current cell, but once you move to a different cell you won't be able to undo any further changes.\n",
    "\n",
    "The other icons in the row at the top will be more useful when you are working on longer notebooks with multiple cells. They let you (in order):\n",
    "- add a new cell below the current one;\n",
    "- cut the current cell;\n",
    "- copy the current cell;\n",
    "- paste cells from the clipboard;\n",
    "- run the current cell (as an alternative to shift+enter);\n",
    "- interrupt the kernel (see below);\n",
    "- restart the kernel;\n",
    "- restart the kernel and rerun the entire notebook.\n",
    "\n",
    "The next control in the row is a dropdown menu that lets you change the type of the current cell between **Code** (i.e. Python) and **Markdown** (i.e. text). You will not need the other option, **Raw**.\n",
    "\n",
    "There are some further buttons available at the top right of the current cell, allowing you to easily move cells up and down, or insert a new cell above the currently selected one.\n",
    "\n",
    "### Restarting and interrupting the kernel\n",
    "\n",
    "The kernel is the process that actually runs your Python code, and holds the values of all the variables that you have defined. **Restarting** the kernel will clear all the variables from memory, and when you re-run cells they will be numbered starting from [1]. It's a good idea to do this every so often, as you can run into problems if you run cells in a different order (which is common when debugging and developing code) or if you define a variable, then delete it, but continue to refer to it somewhere else in your code. \n",
    "\n",
    "**You should restart the kernel and rerun your notebook in order before you upload your notebook to be marked. Even if the contents of your notebook look correct, you will not get full marks if it doesn't work when the marker runs it.**\n",
    "\n",
    "**Interrupting** the kernel is a less drastic step: it will stop the current cell from executing, which can be useful if it is taking too long, but will not clear variables from memory. You can tell if a cell is still executing because the label next to it will say\n",
    "\n",
    "    In [*]\n",
    "    \n",
    "instead of changing to a number."
   ]
  },
  {
   "cell_type": "markdown",
   "metadata": {},
   "source": [
    "## Getting help\n",
    "\n",
    "The **Help** drop-down menu at the top of the screen provides links to some information about the Jupyter Notebook application, including online documentation. The exact contents of this menu vary between different versions of the application.\n",
    "\n",
    "When you need information about a specific Python function, you have seen in unit 2 that the `help` function shows you the relevant docstring."
   ]
  },
  {
   "cell_type": "code",
   "execution_count": 1,
   "metadata": {},
   "outputs": [
    {
     "name": "stdout",
     "output_type": "stream",
     "text": [
      "Help on built-in function abs in module builtins:\n",
      "\n",
      "abs(x, /)\n",
      "    Return the absolute value of the argument.\n",
      "\n"
     ]
    }
   ],
   "source": [
    "help(abs)"
   ]
  },
  {
   "cell_type": "markdown",
   "metadata": {},
   "source": [
    "The Jupyter Notebook provides a couple of quicker ways of accessing this information. One is to prefix the name of the function with a question mark in a cell:"
   ]
  },
  {
   "cell_type": "code",
   "execution_count": 2,
   "metadata": {},
   "outputs": [
    {
     "data": {
      "text/plain": [
       "\u001b[0;31mSignature:\u001b[0m \u001b[0mabs\u001b[0m\u001b[0;34m(\u001b[0m\u001b[0mx\u001b[0m\u001b[0;34m,\u001b[0m \u001b[0;34m/\u001b[0m\u001b[0;34m)\u001b[0m\u001b[0;34m\u001b[0m\u001b[0;34m\u001b[0m\u001b[0m\n",
       "\u001b[0;31mDocstring:\u001b[0m Return the absolute value of the argument.\n",
       "\u001b[0;31mType:\u001b[0m      builtin_function_or_method"
      ]
     },
     "metadata": {},
     "output_type": "display_data"
    }
   ],
   "source": [
    "?abs"
   ]
  },
  {
   "cell_type": "markdown",
   "metadata": {},
   "source": [
    "Alternatively, to get help without needing to add cells or change the contents of your notebook, you can simply place the cursor somewhere on the name of the function and press SHIFT+TAB. The help text will appear in a pop-up window, which disappears when you click anywhere else"
   ]
  },
  {
   "cell_type": "code",
   "execution_count": 3,
   "metadata": {},
   "outputs": [
    {
     "data": {
      "text/plain": [
       "3.905124837953327"
      ]
     },
     "execution_count": 3,
     "metadata": {},
     "output_type": "execute_result"
    }
   ],
   "source": [
    "abs(-2.5j + 3)"
   ]
  },
  {
   "cell_type": "markdown",
   "metadata": {},
   "source": [
    "Another way to get help is to precede the function name with a question mark (?), like in the cell below:"
   ]
  },
  {
   "cell_type": "markdown",
   "metadata": {},
   "source": [
    "## Formatting text and maths with Markdown\n",
    "\n",
    "### Text\n",
    "\n",
    "Markdown is a lightweight *markup language*: it provides a way of including additional information in a text file so that the text can be formatted nicely (with headings, subheadings, lists, embedded code samples etc.) while remaining fairly readable even as a plain text file, and being easy to edit.\n",
    "\n",
    "Double click on a text cell (like this one) to see how this is done.\n",
    "\n",
    "Markdown provides quick ways to specify some basic types of formatting:\n",
    "- for a bulleted list, start each line with a - character or an asterisk *;\n",
    "- for _italic text_ enclose the text with underscores, or with single asterisks *like this*;\n",
    "- for **bold text** enclose the text in double asterisks;\n",
    "- for section headings start a line with one or more # characters.\n",
    "\n",
    "Other features are explained in [Markdown Cells](https://jupyter-notebook.readthedocs.io/en/stable/examples/Notebook/Working%20With%20Markdown%20Cells.html) in the [Jupyter Notebook documentation](https://jupyter-notebook.readthedocs.io/en/stable/index.html). For even more possibilities, you can just include HTML in your Markdown cells, at the cost of making the text harder to edit."
   ]
  },
  {
   "cell_type": "markdown",
   "metadata": {},
   "source": [
    "### Maths\n",
    "\n",
    "It's useful to know how to write maths as well. Jupyter notebooks use LaTeX markup (pronounced Lay-Tech, not like rubber) which is either a particularly beautiful and elegant markup language for typesetting both maths and everything else (for all right-thinking people) or a form of torture that should be outlawed under the Geneva convention (for the not-yet-enlightened). You can find more information on LaTeX here: http://en.wikipedia.org/wiki/LaTeX\n",
    "\n",
    "For our purposes, we won't need to do anything particularly complicated  and you only need to know the very basics, which are fairly intuitive, so there will be no torture involved."
   ]
  },
  {
   "cell_type": "markdown",
   "metadata": {},
   "source": [
    "Double click on this cell, or on any other cell with maths in it, and you will be able to see exactly how it was generated. Here is a brief summary of the basics:-\n",
    "\n",
    "* To switch to math formatting within a paragraph, like this $x = 2y^3$, enclose the maths in dollar signs.\n",
    "* To format an equation on a separate line, enclose it in double dollar signs, like this:\n",
    "$$ x = 2y^3$$\n",
    "* Greek letters are prefixed with a backslash followed by the name of the letter, eg \\\\alpha, \\\\beta, \\\\gamma, \\\\delta becomes $\\alpha, \\beta, \\gamma, \\delta$ when enclosed in dollar signs.\n",
    "* Subscripts use an underline character, superscripts use ^. To format more than one character as a subscript or subscript, the characters must be grouped within curly brackets `{}`. For example $x_0 = y^2, x_1 = \\alpha^{12}$.\n",
    "* Common functions like sin, cos, exp, are also prefixed by a backslash. For example \n",
    "$$\\exp(5 \\alpha) = \\sin(2 \\pi x)$$\n",
    "\n",
    "For most purposes in this course, you will frequently be able to copy and paste an equation from the session script (itself an Jupyter notebook) so don't worry about being expected to know more than this. In case you find it useful, there are also websites like http://www.codecogs.com/latex/eqneditor.php which let you pick maths symbols from a palette and convert them to LaTeX code. "
   ]
  },
  {
   "cell_type": "markdown",
   "metadata": {},
   "source": [
    "## Using Jupyter notebooks\n",
    "\n",
    "A Jupyter notebook can be a full scientific report, with the bonus of executable code contained within it. When you are submitting your work, you should be aiming to make your notebook as clear and well structured as any other document.\n",
    "\n",
    "### When to use text cells and when to use comments\n",
    "\n",
    "Sometimes it's not obvious when it's best to use text cells in your own notebooks and when to use code comments (starting with #). A good general rule of thumb is:\n",
    "- if you're describing something about the physics or maths of the problem you're solving, use a text cell;\n",
    "- if you're describing something about the Python code you're writing, use a comment in the code cell.\n",
    "\n",
    "### Using Jupyter notebooks elsewhere in your courses\n",
    "\n",
    "Jupyter notebooks are a relatively new technology, and are being used more and more as people realise how useful they are. We hope that you too will find them useful beyond PHAS0007, whether just for making notes, or doing quick calculations and solving problems numerically."
   ]
  },
  {
   "cell_type": "markdown",
   "metadata": {},
   "source": [
    "## How the Jupyter Notebook works\n",
    "\n",
    "You do not need to know much about how the Jupyter Notebook application works for this course, so this section is for information only, to provide a bit of background for those who are interested. If you want a more detailed explanation, you may also want to look at\n",
    "- [What is the Jupyter Notebook?](https://jupyter-notebook-beginner-guide.readthedocs.io/en/latest/what_is_jupyter.html) in the [Jupyter/IPython Notebook Quick Start Guide](https://jupyter-notebook-beginner-guide.readthedocs.io/en/latest/index.html);\n",
    "- [Chapter 3 : Mastering the Jupyter Notebook](https://ipython-books.github.io/chapter-3-mastering-the-jupyter-notebook/) in the [IPython Cookbook](https://ipython-books.github.io/);\n",
    "- [Architecture](https://jupyter.readthedocs.io/en/latest/projects/architecture/content-architecture.html) in the [Jupyter Project Documentation](https://jupyter.readthedocs.io/en/latest/index.html).\n",
    "\n",
    "### Structure of the application\n",
    "\n",
    "You will have noticed by now that when you start the Jupyter Notebook application on your computer, you actually end up working in a web browser. The web browser itself is not actually running your Python code though: this is handled by a separate process, which functions as a web server although it is (in this case) running on the same computer as the browser. This is known as a *client-server* structure: the web browser is a client, which passes requests to the server, and displays the results.\n",
    "\n",
    "The server process itself actually uses a separate component called the *kernel* to execute the Python code itself. In fact one Jupyter Notebook server can run several kernels at the same time, for different notebooks, and these can even run different versions of Python or even different programming languages. In this course we will only use the Python 3 kernel.\n",
    "\n",
    "### Notebook files\n",
    "\n",
    "Jupyter notebooks are stored on the computer as text files, using a syntax called JSON (JavaScript Object Notation), which is also used in many other applications. To specify that a particular file is a Jupyter notebook, we use the extension \".ipynb\".\n",
    "\n",
    "### Terminology\n",
    "\n",
    "The file extension is \".ipynb\" because these documents used to be called \"IPython notebooks\". The project was renamed when it gained support for programming languages other than Python: the name \"Jupyter\" refers to the languages Julia, Python and R, although kernels are now available for many other languages.\n",
    "\n",
    "In this course we are using \"Jupyter Notebook\" (with a capital N) to refer to the *application* that we are using, and \"Jupyter notebook\" (with a lower-case N) to refer to one of the documents we edit and run, containing Python code and Markdown text."
   ]
  }
 ],
 "metadata": {
  "anaconda-cloud": {},
  "kernelspec": {
   "display_name": "Python 3 (ipykernel)",
   "language": "python",
   "name": "python3"
  },
  "language_info": {
   "codemirror_mode": {
    "name": "ipython",
    "version": 3
   },
   "file_extension": ".py",
   "mimetype": "text/x-python",
   "name": "python",
   "nbconvert_exporter": "python",
   "pygments_lexer": "ipython3",
   "version": "3.12.3"
  },
  "toc": {
   "base_numbering": 1,
   "nav_menu": {},
   "number_sections": false,
   "sideBar": true,
   "skip_h1_title": false,
   "title_cell": "Table of Contents",
   "title_sidebar": "Contents",
   "toc_cell": false,
   "toc_position": {
    "height": "calc(100% - 180px)",
    "left": "10px",
    "top": "150px",
    "width": "274.9px"
   },
   "toc_section_display": true,
   "toc_window_display": true
  }
 },
 "nbformat": 4,
 "nbformat_minor": 4
}
