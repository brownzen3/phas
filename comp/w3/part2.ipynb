{
 "cells": [
  {
   "cell_type": "markdown",
   "id": "6fae4dca-34f2-4165-aaac-266be1a9d10b",
   "metadata": {},
   "source": [
    "#### Imports"
   ]
  },
  {
   "cell_type": "code",
   "execution_count": 11,
   "id": "8a5f39dc-8ac5-4611-938a-bd26446a1603",
   "metadata": {},
   "outputs": [
    {
     "ename": "",
     "evalue": "",
     "output_type": "error",
     "traceback": [
      "\u001b[1;31mFailed to start the Kernel. \n",
      "\u001b[1;31mUnable to start Kernel '.venv (Python 3.11.4)' due to a timeout waiting for the ports to get used. \n",
      "\u001b[1;31mView Jupyter <a href='command:jupyter.viewOutput'>log</a> for further details."
     ]
    }
   ],
   "source": [
    "import numpy as np\n",
    "import matplotlib.pyplot as plt\n",
    "\n",
    "# magic command for interactive features\n",
    "%matplotlib widget"
   ]
  },
  {
   "cell_type": "markdown",
   "id": "a9512d79-7d3a-47be-ac69-4b0a1097942c",
   "metadata": {},
   "source": [
    "#### Fetch and store CSV data\n"
   ]
  },
  {
   "cell_type": "code",
   "execution_count": null,
   "id": "8b27a825-df53-46e2-9fea-2ea6cfc3796e",
   "metadata": {},
   "outputs": [],
   "source": [
    "# load two .csv files (each containing two columns)\n",
    "LiF_x , LiF_y  = np.loadtxt(\"./data/LiF-30kV.csv\", delimiter=',', unpack=True)\n",
    "NaCl_x, NaCl_y = np.loadtxt(\"./data/NaCl-30kV.csv\", delimiter=',', unpack=True)"
   ]
  },
  {
   "cell_type": "markdown",
   "id": "3629bced-9b49-42ff-9c54-7bf77239d2d2",
   "metadata": {},
   "source": [
    "#### Configure and plot graph\n",
    "\n",
    "```plt.plot()``` used to display a continuous line. This is most appropriate as ```θ``` is continuous and varied by small amounts (0.5° - 2°) between readings. Also this helps to identify peaks in the graph."
   ]
  },
  {
   "cell_type": "code",
   "execution_count": null,
   "id": "6564ffa9-66ca-47ca-a486-2fa60f3cbb3f",
   "metadata": {},
   "outputs": [],
   "source": [
    "# calculate graph axis range\n",
    "x_max = max(LiF_x)+10\n",
    "y_max = max(LiF_y)+100\n",
    "\n",
    "# plot both arrays\n",
    "plt.figure(figsize=(10, 6))\n",
    "plt.plot(LiF_x, LiF_y, label=\"LiF\", linewidth=0.8)\n",
    "plt.plot(NaCl_x, NaCl_y, label=\"NaCl\", linewidth=0.8)\n",
    "plt.xlabel(\"2θ (deg)\")\n",
    "plt.ylabel(\"counts per second\")\n",
    "plt.title(\"Bragg's Law: 2θ deg against counts per second\")\n",
    "\n",
    "# set axis range\n",
    "plt.xlim([0, x_max])\n",
    "plt.ylim([0, y_max])\n",
    "\n",
    "# enable gridlines & legend\n",
    "plt.xticks(np.arange(0, x_max, 10))\n",
    "plt.yticks(np.arange(0, y_max, 200))\n",
    "plt.grid(which='major', axis='both', color='#cccccc')\n",
    "plt.legend(loc=\"upper right\");\n",
    "\n",
    "# save graph as a .png file\n",
    "plt.savefig(\"braggs_law_graph.png\")"
   ]
  }
 ],
 "metadata": {
  "kernelspec": {
   "display_name": ".venv",
   "language": "python",
   "name": "python3"
  },
  "language_info": {
   "codemirror_mode": {
    "name": "ipython",
    "version": 3
   },
   "file_extension": ".py",
   "mimetype": "text/x-python",
   "name": "python",
   "nbconvert_exporter": "python",
   "pygments_lexer": "ipython3",
   "version": "3.11.4"
  }
 },
 "nbformat": 4,
 "nbformat_minor": 5
}
