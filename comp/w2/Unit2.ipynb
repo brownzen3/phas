{
 "cells": [
  {
   "cell_type": "markdown",
   "metadata": {},
   "source": [
    "# Unit 2 task\n",
    "\n",
    "**Updated 2023-10-09**\n",
    "\n",
    "This Jupyter notebook is a template for this week's assignment. You should fill in the blank code and text cells below to answer the questions, and upload your completed notebook to Moodle for marking.\n",
    "\n",
    "Remember to:\n",
    "* print out the results of each calculation;\n",
    "* where you are asked to complete text cells, make sure you use complete, grammatically correct sentences.\n",
    "\n",
    "Make sure you run the cell below to import the NumPy package."
   ]
  },
  {
   "cell_type": "code",
   "execution_count": 1,
   "metadata": {},
   "outputs": [],
   "source": [
    "import numpy as np"
   ]
  },
  {
   "cell_type": "markdown",
   "metadata": {},
   "source": [
    "## Part 1\n",
    "\n",
    "### (a)\n",
    "\n",
    "The following statement creates an array of evenly spaced values:\n",
    "\n",
    "    np.array([0.5, 1. , 1.5, 2. , 2.5, 3. ])\n",
    "\n",
    "Use an appropriate NumPy function in the next cell to create an array containing the same values in a more efficient way, and assign this to a variable called `array_a`."
   ]
  },
  {
   "cell_type": "code",
   "execution_count": 2,
   "metadata": {},
   "outputs": [
    {
     "name": "stdout",
     "output_type": "stream",
     "text": [
      "[0.5 1.  1.5 2.  2.5 3. ]\n"
     ]
    }
   ],
   "source": [
    "### STUDENT CODE CELL\n",
    "array_a = np.linspace(0.5, 3.0, 6)\n",
    "print(array_a)"
   ]
  },
  {
   "cell_type": "markdown",
   "metadata": {},
   "source": [
    "### (b)\n",
    "\n",
    "The following statement creates an array of evenly spaced **integers**: \n",
    "\n",
    "    array([ 5, 10, 15, 20, 25, 30])\n",
    "\n",
    "Again, use an appropriate NumPy function in the next cell to create an array containing the same values in a more efficient way, and assign this to a variable called `array_b`."
   ]
  },
  {
   "cell_type": "code",
   "execution_count": 3,
   "metadata": {},
   "outputs": [
    {
     "name": "stdout",
     "output_type": "stream",
     "text": [
      "[ 5 10 15 20 25 30]\n"
     ]
    }
   ],
   "source": [
    "### STUDENT CODE CELL\n",
    "array_b = np.linspace(5, 30, 6, dtype=int)\n",
    "print(array_b)"
   ]
  },
  {
   "cell_type": "markdown",
   "metadata": {},
   "source": [
    "### (c)\n",
    "\n",
    "Multiply the values in `array_a` and `array_b` together, assigning the results to a variable `array_c`."
   ]
  },
  {
   "cell_type": "code",
   "execution_count": 4,
   "metadata": {},
   "outputs": [
    {
     "name": "stdout",
     "output_type": "stream",
     "text": [
      "[ 2.5 10.  22.5 40.  62.5 90. ]\n"
     ]
    }
   ],
   "source": [
    "### STUDENT CODE CELL\n",
    "array_c = array_a * array_b\n",
    "print(array_c)"
   ]
  },
  {
   "cell_type": "markdown",
   "metadata": {},
   "source": [
    "### (d)\n",
    "\n",
    "Use array slicing to create an array `array_d` containing the elements from `array_c` but omitting the first and last elements."
   ]
  },
  {
   "cell_type": "code",
   "execution_count": 5,
   "metadata": {},
   "outputs": [
    {
     "name": "stdout",
     "output_type": "stream",
     "text": [
      "[10.  22.5 40.  62.5]\n"
     ]
    }
   ],
   "source": [
    "### STUDENT CODE CELL\n",
    "array_d = array_c[1:5]\n",
    "print(array_d)"
   ]
  },
  {
   "cell_type": "markdown",
   "metadata": {},
   "source": [
    "### (e)\n",
    "\n",
    "Use your web searching skills to find NumPy functions that will calculate the dot product and the cross product of two vectors. Use these functions to calculate both products for the vectors (0.3, 0.4, 1.2) and (0.4, -0.3, 1.2)."
   ]
  },
  {
   "cell_type": "code",
   "execution_count": 6,
   "metadata": {},
   "outputs": [
    {
     "name": "stdout",
     "output_type": "stream",
     "text": [
      "dot: 1.44, cross: [ 0.84  0.12 -0.25]\n"
     ]
    }
   ],
   "source": [
    "### STUDENT CODE CELL\n",
    "vector_a = [0.3, 0.4, 1.2]\n",
    "vector_b = [0.4, -0.3, 1.2]\n",
    "\n",
    "dot = np.dot(vector_a, vector_b)\n",
    "cross = np.cross(vector_a, vector_b)\n",
    "\n",
    "print(f\"dot: {dot}, cross: {cross}\")"
   ]
  },
  {
   "cell_type": "markdown",
   "metadata": {},
   "source": [
    "### (f)\n",
    "\n",
    "The first few storm names chosen by the UK Met Office for 2023-24 are given in this list:"
   ]
  },
  {
   "cell_type": "code",
   "execution_count": 7,
   "metadata": {},
   "outputs": [],
   "source": [
    "storms = [\"Agnes\",\"Babet\",\"Ciarán\",\"Debi\",\"Elin\",\"Fergus\",\"Gerrit\"]"
   ]
  },
  {
   "cell_type": "markdown",
   "metadata": {},
   "source": [
    "Use a for loop to print each name on a separate line, prefixed by the word \"Storm\", i.e.\n",
    "\n",
    "    Storm Agnes\n",
    "    Storm Babet\n",
    "    \n",
    "and so on."
   ]
  },
  {
   "cell_type": "code",
   "execution_count": 8,
   "metadata": {},
   "outputs": [
    {
     "name": "stdout",
     "output_type": "stream",
     "text": [
      "Storm Agnes\n",
      "Storm Babet\n",
      "Storm Ciarán\n",
      "Storm Debi\n",
      "Storm Elin\n",
      "Storm Fergus\n",
      "Storm Gerrit\n"
     ]
    }
   ],
   "source": [
    "### STUDENT CODE CELL\n",
    "for name in storms:\n",
    "    print(f\"Storm {name}\")"
   ]
  },
  {
   "cell_type": "markdown",
   "metadata": {},
   "source": [
    "### (g)\n",
    "\n",
    "The for loop is useful when you need to deal with each element of an array in turn, but it can be slow compared to more specialized NumPy functions. In two separate code cells below, you should try adding together the contents of the same array `data` in two different ways: \n",
    "- using a loop;\n",
    "- using the function `np.sum`.\n",
    "\n",
    "The `%%time` function (a Jupyter \"magic\" function, not part of Python) will tell you how long each takes. You may need to adjust the size of the array to get useful results.\n",
    "\n",
    "Use the following text cell to comment on the results."
   ]
  },
  {
   "cell_type": "code",
   "execution_count": 9,
   "metadata": {},
   "outputs": [],
   "source": [
    "# Generate some (pseudo)random numbers as input for the next tasks.\n",
    "#\n",
    "# Depending on the speed of your computer, you may want to vary the size of this array.\n",
    "# Remember that you can interrupt the kernel if a calculation is taking too long!  \n",
    "data = np.random.random(size=10000)\n",
    "\n",
    "# np.sum function is faster than using a for loop\n",
    "# avg time: 0.18 ms vs 1.60 ms (~ 10x faster)"
   ]
  },
  {
   "cell_type": "code",
   "execution_count": 10,
   "metadata": {},
   "outputs": [
    {
     "name": "stdout",
     "output_type": "stream",
     "text": [
      "The sum is 5021.1240819745835\n",
      "CPU times: total: 0 ns\n",
      "Wall time: 1.04 ms\n"
     ]
    }
   ],
   "source": [
    "%%time\n",
    "### STUDENT CODE CELL\n",
    "\n",
    "sum = 0.\n",
    "# Add a loop here to add each element of data in turn to \"sum\".\n",
    "for n in data:\n",
    "    sum += n\n",
    "\n",
    "print(f\"The sum is {sum}\")"
   ]
  },
  {
   "cell_type": "code",
   "execution_count": 11,
   "metadata": {},
   "outputs": [
    {
     "name": "stdout",
     "output_type": "stream",
     "text": [
      "The sum is 5021.124081974585\n",
      "CPU times: total: 0 ns\n",
      "Wall time: 1.45 ms\n"
     ]
    }
   ],
   "source": [
    "%%time\n",
    "### STUDENT CODE CELL\n",
    "\n",
    "sum = np.sum(data) # Replace this line with a call to the np.sum function.\n",
    "\n",
    "print(f\"The sum is {sum}\")"
   ]
  },
  {
   "cell_type": "markdown",
   "metadata": {},
   "source": [
    "##### STUDENT TEXT CELL: add to this text cell to comment on the results of timing the two different ways of carrying out the same calculation."
   ]
  },
  {
   "cell_type": "markdown",
   "metadata": {},
   "source": [
    "## Part 2\n",
    "\n",
    "In unit 1 you were asked to calculate the value of the fourth-order Legendre polynomial for a given value of x:\n",
    "\n",
    "$$\n",
    "f(x) = \\frac{1}{8} \\left( 35 x^4 - 30 x^2 + 3 \\right)\n",
    "$$\n",
    "\n",
    "### (a)\n",
    "\n",
    "You should now define a function that can calculate the corresponding value of this polynomial for any value of x, or an array of x values."
   ]
  },
  {
   "cell_type": "code",
   "execution_count": 12,
   "metadata": {},
   "outputs": [],
   "source": [
    "### STUDENT CODE CELL\n",
    "def f(x):\n",
    "    \"\"\"\n",
    "    Fourth-order Legendre polynomial function.\n",
    "\n",
    "    Parameters:\n",
    "    x (int, float): Input value.\n",
    "\n",
    "    Returns:\n",
    "    float: Value of the fourth-order Legendre polynomial at x.\n",
    "    \"\"\"\n",
    "    return( (1/8) * ( (35*(x**4)) - (30*(x**2)) + (3) ) )"
   ]
  },
  {
   "cell_type": "markdown",
   "metadata": {},
   "source": [
    "### (b)\n",
    "\n",
    "Use your function to print (with appropriate text) the value of the polynomial at $x=0.123$."
   ]
  },
  {
   "cell_type": "code",
   "execution_count": 13,
   "metadata": {},
   "outputs": [
    {
     "name": "stdout",
     "output_type": "stream",
     "text": [
      "f(0.123) = 0.319267629054375\n"
     ]
    }
   ],
   "source": [
    "### STUDENT CODE CELL\n",
    "print(f\"f(0.123) = {f(0.123)}\")"
   ]
  },
  {
   "cell_type": "markdown",
   "metadata": {},
   "source": [
    "### (c)\n",
    "\n",
    "Use your function, and a suitable array, to print the value of the polynomial at $x = 0, 0.1, 0.2 \\ldots 1$."
   ]
  },
  {
   "cell_type": "code",
   "execution_count": 14,
   "metadata": {},
   "outputs": [
    {
     "name": "stdout",
     "output_type": "stream",
     "text": [
      "f(0.0) = 0.3750000\n",
      "f(0.1) = 0.3379375\n",
      "f(0.2) = 0.2320000\n",
      "f(0.3) = 0.0729375\n",
      "f(0.4) = -0.1130000\n",
      "f(0.5) = -0.2890625\n",
      "f(0.6) = -0.4080000\n",
      "f(0.7) = -0.4120625\n",
      "f(0.8) = -0.2330000\n",
      "f(0.9) = 0.2079375\n",
      "f(1.0) = 1.0000000\n",
      "[ 0.375      0.3379375  0.232      0.0729375 -0.113     -0.2890625\n",
      " -0.408     -0.4120625 -0.233      0.2079375  1.       ]\n"
     ]
    }
   ],
   "source": [
    "### STUDENT CODE CELL\n",
    "array_x = np.linspace(0, 1, 11)\n",
    "\n",
    "for i in array_x:\n",
    "    print(f\"f({i:.1f}) = {f(i):.7f}\")\n",
    "\n",
    "### Alternative\n",
    "\n",
    "print(f(array_x))"
   ]
  }
 ],
 "metadata": {
  "kernelspec": {
   "display_name": "Python 3",
   "language": "python",
   "name": "python3"
  },
  "language_info": {
   "codemirror_mode": {
    "name": "ipython",
    "version": 3
   },
   "file_extension": ".py",
   "mimetype": "text/x-python",
   "name": "python",
   "nbconvert_exporter": "python",
   "pygments_lexer": "ipython3",
   "version": "3.13.7"
  },
  "toc": {
   "base_numbering": 1,
   "nav_menu": {},
   "number_sections": false,
   "sideBar": true,
   "skip_h1_title": false,
   "title_cell": "Table of Contents",
   "title_sidebar": "Contents",
   "toc_cell": false,
   "toc_position": {},
   "toc_section_display": true,
   "toc_window_display": false
  }
 },
 "nbformat": 4,
 "nbformat_minor": 2
}
